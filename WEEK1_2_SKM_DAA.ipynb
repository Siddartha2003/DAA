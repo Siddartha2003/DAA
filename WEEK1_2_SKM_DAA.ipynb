{
  "cells": [
    {
      "cell_type": "markdown",
      "metadata": {
        "id": "view-in-github",
        "colab_type": "text"
      },
      "source": [
        "<a href=\"https://colab.research.google.com/github/Siddartha2003/DAA/blob/main/WEEK1_2_SKM_DAA.ipynb\" target=\"_parent\"><img src=\"https://colab.research.google.com/assets/colab-badge.svg\" alt=\"Open In Colab\"/></a>"
      ]
    },
    {
      "cell_type": "markdown",
      "metadata": {
        "id": "GPHHU9epCzlE"
      },
      "source": [
        "Courier and logistics companies handle a massive volume of packages daily. These\n",
        "packages need to be efficiently sorted and routed to their destinations to ensure\n",
        "timely and accurate deliveries. Each package typically has a unique barcode that\n",
        "contains essential information like the recipient's address, delivery method, and\n",
        "tracking number. So, implement an application to arrange the packages based on\n",
        "tracking numbers.\n",
        "\n",
        "TEST CASE 1:\n",
        "INPUT:\n",
        "Enter Package Tracking Number\n",
        "2000\n",
        "1500\n",
        "3000\n",
        "4200\n",
        "OUTPUT:\n",
        "4200\n",
        "3000\n",
        "2000\n",
        "1500\n",
        "\n",
        "TEST CASE 2:\n",
        "INPUT:\n",
        "Enter Package Tracking Number\n",
        "1500\n",
        "6900\n",
        "8000\n",
        "1400\n",
        "OUTPUT:\n",
        "8000\n",
        "6900\n",
        "1500\n",
        "1400\n"
      ]

    },
    {
      "cell_type": "code",
      "execution_count": null,
      "metadata": {
        "id": "-VXDFqk5CzlF"
      },
      "outputs": [],
      "source": [
        "array = []\n",
        "print('Enter Package Tracking Number')\n",
        "for _ in range(4):\n",
        "    val = int(input())\n",
        "    array.append(val)"
      ]
    },
    {
      "cell_type": "code",
      "execution_count": null,
      "metadata": {
        "id": "axbdW6SnCzlG"
      },
      "outputs": [],
      "source": [
        "for i in range(0,len(array)-1):\n",
        "    maxvalue_index = i\n",
        "    for j in range(i+1,len(array)):\n",
        "        if array[maxvalue_index] < array[j]:\n",
        "            maxvalue_index = j\n",
        "    array[i],array[maxvalue_index] = array[maxvalue_index],array[i]"
      ]
    },
    {
      "cell_type": "code",
      "execution_count": null,
      "metadata": {
        "id": "NhD2jTcmCzlG"
      },
      "outputs": [],
      "source": [
        "for i in array:\n",
        "    print(i)"
      ]
    }
  ],
  "metadata": {
    "kernelspec": {
      "display_name": "Python 3",
      "language": "python",
      "name": "python3"
    },
    "language_info": {
      "codemirror_mode": {
        "name": "ipython",
        "version": 3
      },
      "file_extension": ".py",
      "mimetype": "text/x-python",
      "name": "python",
      "nbconvert_exporter": "python",
      "pygments_lexer": "ipython3",
      "version": "3.6.4"
    },
    "colab": {
      "provenance": [],
      "include_colab_link": true
    }
  },
  "nbformat": 4,
  "nbformat_minor": 0
}
