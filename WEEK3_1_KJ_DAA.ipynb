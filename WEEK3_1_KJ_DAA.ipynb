{
  "cells": [
    {
      "cell_type": "markdown",
      "metadata": {
        "id": "view-in-github",
        "colab_type": "text"
      },
      "source": [
        "<a href=\"https://colab.research.google.com/github/Siddartha2003/DAA/blob/main/WEEK3_1_KJ_DAA.ipynb\" target=\"_parent\"><img src=\"https://colab.research.google.com/assets/colab-badge.svg\" alt=\"Open In Colab\"/></a>"
      ]
    },
    {
      "cell_type": "markdown",
      "metadata": {
        "id": "KzzVV20HIHTk"
      },
      "source": [
        "\n",
        "Given a sorted array of product prices in ascending order, implement a function called<br>\n",
        "binarySearchPrice in C that searches for a specific price in the sorted price array and returns its<br>\n",
        "dex. If the price is not found, the function should return -1.\n"
      ]
    },
    {
      "cell_type": "code",
      "execution_count": null,
      "metadata": {
        "id": "W5LP-vcZIHTm"
      },
      "outputs": [],
      "source": [
        "array = []\n",
        "print('Enter Product Prices in USD:')\n",
        "for _ in range(8):\n",
        "    val = int(input())\n",
        "    array.append(val)\n",
        "key = int(input('Enter the price of the book to be found: '))\n",
        "l = 0\n",
        "r = len(array)-1\n",
        "while l<=r:\n",
        "    mid = (l+r)//2\n",
        "    if array[mid] == key:\n",
        "        print('Value found at index',mid)\n",
        "        exit()\n",
        "    elif array[mid] > key:\n",
        "        r = mid\n",
        "    else:\n",
        "        l = mid+1\n",
        "print('-1')"
      ]
    }
  ],
  "metadata": {
    "kernelspec": {
      "display_name": "Python 3",
      "language": "python",
      "name": "python3"
    },
    "language_info": {
      "codemirror_mode": {
        "name": "ipython",
        "version": 3
      },
      "file_extension": ".py",
      "mimetype": "text/x-python",
      "name": "python",
      "nbconvert_exporter": "python",
      "pygments_lexer": "ipython3",
      "version": "3.6.4"
    },
    "colab": {
      "provenance": [],
      "include_colab_link": true
    }
  },
  "nbformat": 4,
  "nbformat_minor": 0
}