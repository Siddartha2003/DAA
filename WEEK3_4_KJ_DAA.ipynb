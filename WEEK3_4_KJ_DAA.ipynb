{
  "cells": [
    {
      "cell_type": "markdown",
      "metadata": {
        "id": "view-in-github",
        "colab_type": "text"
      },
      "source": [
        "<a href=\"https://colab.research.google.com/github/Siddartha2003/DAA/blob/main/WEEK3_4_KJ_DAA.ipynb\" target=\"_parent\"><img src=\"https://colab.research.google.com/assets/colab-badge.svg\" alt=\"Open In Colab\"/></a>"
      ]
    },
    {
      "cell_type": "markdown",
      "metadata": {
        "id": "KVj5lGf6EYxZ"
      },
      "source": [
        "As part of an HR management system for a large corporation, you are tasked with developing a\n",
        "feature that allows HR managers to view employee salaries in an organized manner. To assist in\n",
        "budgeting and salary adjustments, HR managers need to see the list of employee salaries sorted\n",
        "in descending order, starting from the highest salary.\n",
        "Task: Implement a function to sort the list of employee salaries in descending order using the\n",
        "Merge Sort algorithm.\n",
        "\n",
        "TEST CASE 1:\n",
        "INPUT:\n",
        "Enter Employee Salaries:\n",
        "55000\n",
        "32000\n",
        "75000\n",
        "46000\n",
        "OUTPUT:\n",
        "75000\n",
        "55000\n",
        "46000\n",
        "32000\n"
      ]

    },
    {
      "cell_type": "code",
      "execution_count": null,
      "metadata": {
        "id": "U6Ey7dAPEYxb"
      },
      "outputs": [],
      "source": [
        "def merge_sort(array):\n",
        "    if len(array)<=1:\n",
        "        return array\n",
        "    else:\n",
        "        mid = len(array)//2\n",
        "        left_half = merge_sort(array[:mid])\n",
        "        right_half = merge_sort(array[mid:])\n",
        "        return merge(left_half,right_half)"
      ]
    },
    {
      "cell_type": "code",
      "execution_count": null,
      "metadata": {
        "id": "Giz-8N-8EYxb"
      },
      "outputs": [],
      "source": [
        "def merge(left,right):\n",
        "    result = []\n",
        "    i = j = 0\n",
        "    while i<len(left) and j<len(right):\n",
        "        if left[i]>right[j]:\n",
        "            result.append(left[i])\n",
        "            i+=1\n",
        "        else:\n",
        "            result.append(right[j])\n",
        "            j+=1\n",
        "    result.extend(left[i:])\n",
        "    result.extend(right[j:])\n",
        "    return result\n",
        "array = []\n",
        "print('Enter Employees Salaries:')\n",
        "for _ in range(4):\n",
        "    val = int(input())\n",
        "    array.append(val)\n",
        "sorted_array = merge_sort(array)\n",
        "for i in sorted_array:\n",
        "    print(i)"
      ]
    }
  ],
  "metadata": {
    "kernelspec": {
      "display_name": "Python 3",
      "language": "python",
      "name": "python3"
    },
    "language_info": {
      "codemirror_mode": {
        "name": "ipython",
        "version": 3
      },
      "file_extension": ".py",
      "mimetype": "text/x-python",
      "name": "python",
      "nbconvert_exporter": "python",
      "pygments_lexer": "ipython3",
      "version": "3.6.4"
    },
    "colab": {
      "provenance": [],
      "include_colab_link": true
    }
  },
  "nbformat": 4,
  "nbformat_minor": 0
}
